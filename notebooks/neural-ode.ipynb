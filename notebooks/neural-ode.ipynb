{
 "cells": [
  {
   "cell_type": "code",
   "execution_count": 144,
   "metadata": {},
   "outputs": [],
   "source": [
    "import jax\n",
    "import jax.numpy as jnp\n",
    "import jax.random as jr\n",
    "import equinox as eqx\n",
    "import optax\n",
    "import diffrax as dfx\n",
    "import matplotlib.pyplot as plt"
   ]
  },
  {
   "cell_type": "markdown",
   "metadata": {},
   "source": [
    "load data"
   ]
  },
  {
   "cell_type": "code",
   "execution_count": 148,
   "metadata": {},
   "outputs": [],
   "source": [
    "no_noise_data = jnp.load(\"../data/ODE_per_person.npy\")\n",
    "train_data = jnp.load(\"../data/traj_data_per_person.npy\")"
   ]
  },
  {
   "cell_type": "code",
   "execution_count": 149,
   "metadata": {},
   "outputs": [
    {
     "name": "stdout",
     "output_type": "stream",
     "text": [
      "(100,)\n"
     ]
    }
   ],
   "source": [
    "no_noise_data = no_noise_data[::10]\n",
    "print(no_noise_data.shape)"
   ]
  },
  {
   "cell_type": "code",
   "execution_count": 150,
   "metadata": {},
   "outputs": [
    {
     "data": {
      "text/plain": [
       "[<matplotlib.lines.Line2D at 0x1fb8b56de80>]"
      ]
     },
     "execution_count": 150,
     "metadata": {},
     "output_type": "execute_result"
    },
    {
     "data": {
      "image/png": "[encoded data removed]",
      "text/plain": [
       "<Figure size 640x480 with 1 Axes>"
      ]
     },
     "metadata": {},
     "output_type": "display_data"
    }
   ],
   "source": [
    "plt.plot(no_noise_data)"
   ]
  },
  {
   "cell_type": "markdown",
   "metadata": {},
   "source": [
    "neural network - 1 hidden layer, 20 neurons"
   ]
  },
  {
   "cell_type": "code",
   "execution_count": 136,
   "metadata": {},
   "outputs": [],
   "source": [
    "class VectorField(eqx.Module):\n",
    "    layers: list\n",
    "\n",
    "    def __init__(self, key):\n",
    "        key1, key2 = jr.split(key, 2)\n",
    "        self.layers = [\n",
    "            eqx.nn.Linear(1, 10, use_bias=True, key=key1),\n",
    "            jnp.tanh,\n",
    "            eqx.nn.Linear(10, 1, use_bias=True, key=key2)\n",
    "        ]\n",
    "\n",
    "    def __call__(self, t, y, args):\n",
    "        for layer in self.layers:\n",
    "            y = layer(y)\n",
    "        return y"
   ]
  },
  {
   "cell_type": "markdown",
   "metadata": {},
   "source": [
    "Neural ODE"
   ]
  },
  {
   "cell_type": "code",
   "execution_count": 137,
   "metadata": {},
   "outputs": [],
   "source": [
    "class NeuralODE(eqx.Module):\n",
    "    vector_field: VectorField\n",
    "\n",
    "    def __init__(self, key):\n",
    "        self.vector_field = VectorField(key)\n",
    "\n",
    "    def __call__(self):\n",
    "        vf = dfx.ODETerm(self.vector_field)\n",
    "        t0 = 0\n",
    "        t1 = 10\n",
    "        dt0 = 0.1\n",
    "        saveat = dfx.SaveAt(steps=True)\n",
    "        y0 = jnp.array([0.0])\n",
    "        solver = dfx.Midpoint()\n",
    "        sol = dfx.diffeqsolve(\n",
    "            terms = vf,\n",
    "            solver = solver,\n",
    "            t0 = t0,\n",
    "            t1 = t1,\n",
    "            dt0 = dt0,\n",
    "            y0 = y0,\n",
    "            saveat = saveat,\n",
    "            max_steps=100,\n",
    "        )\n",
    "        ts = sol.ts\n",
    "        ys = sol.ys\n",
    "        return ts, ys"
   ]
  },
  {
   "cell_type": "code",
   "execution_count": 139,
   "metadata": {},
   "outputs": [],
   "source": [
    "model = NeuralODE(jr.PRNGKey(10))\n",
    "ts, ys = model()"
   ]
  },
  {
   "cell_type": "markdown",
   "metadata": {},
   "source": [
    "RNG"
   ]
  },
  {
   "cell_type": "code",
   "execution_count": 140,
   "metadata": {},
   "outputs": [],
   "source": [
    "SEED = 1\n",
    "key = jr.key(SEED)\n",
    "model_key, perm_key = jr.split(key, 2)"
   ]
  },
  {
   "cell_type": "markdown",
   "metadata": {},
   "source": [
    "training"
   ]
  },
  {
   "cell_type": "code",
   "execution_count": 141,
   "metadata": {},
   "outputs": [
    {
     "name": "stdout",
     "output_type": "stream",
     "text": [
      "Step: 0, Loss: 8.39833927154541\n",
      "Step: 100, Loss: 0.029827579855918884\n",
      "Step: 200, Loss: 0.02299407869577408\n",
      "Step: 300, Loss: 0.01820119097828865\n",
      "Step: 400, Loss: 0.015102924779057503\n",
      "Step: 500, Loss: 0.013112852349877357\n",
      "Step: 600, Loss: 0.011812425218522549\n",
      "Step: 700, Loss: 0.010943694971501827\n",
      "Step: 800, Loss: 0.010351080447435379\n",
      "Step: 900, Loss: 0.0099394042044878\n",
      "Step: 1000, Loss: 0.00964901503175497\n",
      "Step: 1100, Loss: 0.00944148562848568\n",
      "Step: 1200, Loss: 0.009291467256844044\n",
      "Step: 1300, Loss: 0.009181836619973183\n",
      "Step: 1400, Loss: 0.009100819937884808\n",
      "Step: 1500, Loss: 0.009040185250341892\n",
      "Step: 1600, Loss: 0.00899411365389824\n",
      "Step: 1700, Loss: 0.008958452381193638\n",
      "Step: 1800, Loss: 0.008930216543376446\n",
      "Step: 1900, Loss: 0.008907279931008816\n",
      "Step: 1999, Loss: 0.008888289332389832\n"
     ]
    }
   ],
   "source": [
    "@eqx.filter_value_and_grad\n",
    "def grad_loss(model, ys_data):\n",
    "    ts, ys = model()\n",
    "    return jnp.mean((ys_data - ys) ** 2)\n",
    "\n",
    "\n",
    "@eqx.filter_jit\n",
    "def make_step(model, ys_data, optim, opt_state):\n",
    "    loss, grads = grad_loss(model, ys_data)\n",
    "    updates, opt_state = optim.update(grads, opt_state)\n",
    "    model = eqx.apply_updates(model, updates)\n",
    "    return loss, model, opt_state\n",
    "\n",
    "neural_ode = NeuralODE(key)\n",
    "optim = optax.adam(1e-2)\n",
    "opt_state = optim.init(eqx.filter(neural_ode, eqx.is_inexact_array))\n",
    "\n",
    "steps = 2000\n",
    "# perms = jr.randint(perm_key, shape=(steps,), minval=0, maxval=9)\n",
    "for step in range(steps):\n",
    "    # ys_data = train_data[perms[step], :]\n",
    "    ys_data = no_noise_data\n",
    "    loss, neural_ode, opt_state = make_step(neural_ode, ys_data, optim, opt_state)\n",
    "    if step % 100 == 0 or step == steps - 1:\n",
    "        print(f\"Step: {step}, Loss: {loss}\")"
   ]
  },
  {
   "cell_type": "code",
   "execution_count": 142,
   "metadata": {},
   "outputs": [],
   "source": [
    "ts, ys = neural_ode()"
   ]
  },
  {
   "cell_type": "code",
   "execution_count": 143,
   "metadata": {},
   "outputs": [
    {
     "data": {
      "image/png": "[encoded data removed]",
      "text/plain": [
       "<Figure size 640x480 with 1 Axes>"
      ]
     },
     "metadata": {},
     "output_type": "display_data"
    }
   ],
   "source": [
    "plt.plot(ts, no_noise_data, linestyle=\"--\", color=\"black\", linewidth=3, label=\"true\")\n",
    "plt.plot(ts, ys, color=\"red\", label=\"predicted\")\n",
    "plt.legend()\n",
    "plt.show()"
   ]
  },
  {
   "cell_type": "code",
   "execution_count": null,
   "metadata": {},
   "outputs": [],
   "source": []
  }
 ],
 "metadata": {
  "kernelspec": {
   "display_name": ".venv",
   "language": "python",
   "name": "python3"
  },
  "language_info": {
   "codemirror_mode": {
    "name": "ipython",
    "version": 3
   },
   "file_extension": ".py",
   "mimetype": "text/x-python",
   "name": "python",
   "nbconvert_exporter": "python",
   "pygments_lexer": "ipython3",
   "version": "3.12.8"
  }
 },
 "nbformat": 4,
 "nbformat_minor": 2
}
